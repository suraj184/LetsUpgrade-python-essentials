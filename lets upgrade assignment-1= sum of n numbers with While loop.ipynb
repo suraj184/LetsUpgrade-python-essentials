{
 "cells": [
  {
   "cell_type": "markdown",
   "metadata": {},
   "source": [
    "# sum of N numbers using while loop"
   ]
  },
  {
   "cell_type": "code",
   "execution_count": null,
   "metadata": {},
   "outputs": [],
   "source": [
    "total=0\n",
    "a=0\n",
    "sum1= eval(input(\"Enter any number \"))\n",
    "while sum1!=0:\n",
    "    total=total+sum1\n",
    "    sum1=sum1-1\n",
    "    a=a+1\n",
    "    print(a,\"-->\",total)\n",
    "print(\"Sum of all numbers till\",a, \" is \", total)"
   ]
  }
 ],
 "metadata": {
  "kernelspec": {
   "display_name": "Python 3",
   "language": "python",
   "name": "python3"
  },
  "language_info": {
   "codemirror_mode": {
    "name": "ipython",
    "version": 3
   },
   "file_extension": ".py",
   "mimetype": "text/x-python",
   "name": "python",
   "nbconvert_exporter": "python",
   "pygments_lexer": "ipython3",
   "version": "3.7.6"
  }
 },
 "nbformat": 4,
 "nbformat_minor": 4
}
