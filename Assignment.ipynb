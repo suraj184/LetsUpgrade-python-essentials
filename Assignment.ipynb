{
 "cells": [
  {
   "cell_type": "code",
   "execution_count": 1,
   "metadata": {},
   "outputs": [
    {
     "name": "stdout",
     "output_type": "stream",
     "text": [
      "Hello\n"
     ]
    }
   ],
   "source": [
    "print(\"Hello\")"
   ]
  },
  {
   "cell_type": "code",
   "execution_count": 2,
   "metadata": {},
   "outputs": [
    {
     "name": "stdout",
     "output_type": "stream",
     "text": [
      "Hello python\n"
     ]
    }
   ],
   "source": [
    "print(\"Hello\\\n",
    " python\")"
   ]
  },
  {
   "cell_type": "code",
   "execution_count": 3,
   "metadata": {},
   "outputs": [
    {
     "name": "stdout",
     "output_type": "stream",
     "text": [
      "__________________________s$______________s\n",
      "_________________________.s$$_____________s$\n",
      "________________________s$$$’____________s$$\n",
      "______________________.s$$$³´_______,___s$$³\n",
      "_____________________s$$$$³______.s$’___$$³\n",
      "________________,____$$$$$.______s$³____³$\n",
      "________________$___$$$$$$s_____s$³_____³,\n",
      "_______________s$___‘³$$$$$$s___$$$\n",
      "_______________$$____³$$$$$$s.__³$$s\n",
      "_______________³$.____³$$$$$$$s_.s$$$____s´\n",
      "_______________`$$.____³$$$$$$$_$$$$___s³\n",
      "________________³$$s____³$$$$$$s$$$³__s$’\n",
      "_________________³$$s____$$$$$s$$$$’__s$$\n",
      "_____________`s.__$$$$___s$$$$$$$$³_.s$$³__s\n",
      "______________$$_s$$$$..s$$$$$$$$$$$$$$³__s$\n",
      "______________s$.s$$$$s$$$$$$$$$$$$$$$$_s$$\n",
      "_____________s$$$$$$$$$$$$$$$$$$$$$$$$$$$³\n",
      "____________s$$$ssss$$$$$$$$$$$$$ssss$$$$$´\n",
      "___________$$s§§§§§§§§§s$$$$$$s§§§§§§§§s$,\n",
      "___________³§§§§§§§§§§§§§s$s§§§§§§§§§§§§s\n",
      "___________§§§§§§§§§§§§§§§§§§§§§§§§§§§§§§\n",
      "___________³§§§§§§§§§§§§§§§§§§§§§§§§§§§§§\n",
      "____________³§§§§§§§§§§§§§§§§§§§§§§§§§§§³\n",
      "_____________³§§§§§§§§§§§§§§§§§§§§§§§§§³\n",
      "______________³§§§§§§§§§§§§§§§§§§§§§§§³\n",
      "________________³§§§§§§§§§§§§§§§§§§§³\n",
      "__________________³§§§§§§§§§§§§§§§³\n",
      "____________________³§§§§§§§§§§§³\n",
      "_______________________³§§§§§³\n",
      "_________________________³§³\n",
      "\n"
     ]
    }
   ],
   "source": [
    "print(\"\"\"__________________________s$______________s\n",
    "_________________________.s$$_____________s$\n",
    "________________________s$$$’____________s$$\n",
    "______________________.s$$$³´_______,___s$$³\n",
    "_____________________s$$$$³______.s$’___$$³\n",
    "________________,____$$$$$.______s$³____³$\n",
    "________________$___$$$$$$s_____s$³_____³,\n",
    "_______________s$___‘³$$$$$$s___$$$\n",
    "_______________$$____³$$$$$$s.__³$$s\n",
    "_______________³$.____³$$$$$$$s_.s$$$____s´\n",
    "_______________`$$.____³$$$$$$$_$$$$___s³\n",
    "________________³$$s____³$$$$$$s$$$³__s$’\n",
    "_________________³$$s____$$$$$s$$$$’__s$$\n",
    "_____________`s.__$$$$___s$$$$$$$$³_.s$$³__s\n",
    "______________$$_s$$$$..s$$$$$$$$$$$$$$³__s$\n",
    "______________s$.s$$$$s$$$$$$$$$$$$$$$$_s$$\n",
    "_____________s$$$$$$$$$$$$$$$$$$$$$$$$$$$³\n",
    "____________s$$$ssss$$$$$$$$$$$$$ssss$$$$$´\n",
    "___________$$s§§§§§§§§§s$$$$$$s§§§§§§§§s$,\n",
    "___________³§§§§§§§§§§§§§s$s§§§§§§§§§§§§s\n",
    "___________§§§§§§§§§§§§§§§§§§§§§§§§§§§§§§\n",
    "___________³§§§§§§§§§§§§§§§§§§§§§§§§§§§§§\n",
    "____________³§§§§§§§§§§§§§§§§§§§§§§§§§§§³\n",
    "_____________³§§§§§§§§§§§§§§§§§§§§§§§§§³\n",
    "______________³§§§§§§§§§§§§§§§§§§§§§§§³\n",
    "________________³§§§§§§§§§§§§§§§§§§§³\n",
    "__________________³§§§§§§§§§§§§§§§³\n",
    "____________________³§§§§§§§§§§§³\n",
    "_______________________³§§§§§³\n",
    "_________________________³§³\n",
    "\"\"\")"
   ]
  },
  {
   "cell_type": "code",
   "execution_count": 4,
   "metadata": {},
   "outputs": [
    {
     "name": "stdout",
     "output_type": "stream",
     "text": [
      "hello world\n"
     ]
    }
   ],
   "source": [
    "print('hello world')"
   ]
  },
  {
   "cell_type": "code",
   "execution_count": 5,
   "metadata": {},
   "outputs": [
    {
     "name": "stdout",
     "output_type": "stream",
     "text": [
      "python's world\n"
     ]
    }
   ],
   "source": [
    "print(\"python's world\")"
   ]
  },
  {
   "cell_type": "code",
   "execution_count": 6,
   "metadata": {},
   "outputs": [
    {
     "name": "stdout",
     "output_type": "stream",
     "text": [
      "hello\tworld\n"
     ]
    }
   ],
   "source": [
    "print(\"hello\\tworld\")"
   ]
  },
  {
   "cell_type": "code",
   "execution_count": 7,
   "metadata": {},
   "outputs": [
    {
     "name": "stdout",
     "output_type": "stream",
     "text": [
      "hello\n",
      "world\n"
     ]
    }
   ],
   "source": [
    "print(\"hello\\nworld\")"
   ]
  },
  {
   "cell_type": "code",
   "execution_count": 8,
   "metadata": {},
   "outputs": [
    {
     "name": "stdout",
     "output_type": "stream",
     "text": [
      "python's world\n"
     ]
    }
   ],
   "source": [
    "print('python\\'s world')"
   ]
  },
  {
   "cell_type": "code",
   "execution_count": 9,
   "metadata": {},
   "outputs": [
    {
     "name": "stdout",
     "output_type": "stream",
     "text": [
      "hello \u0007world\n"
     ]
    }
   ],
   "source": [
    "print(\"hello \\aworld\")"
   ]
  },
  {
   "cell_type": "code",
   "execution_count": 10,
   "metadata": {},
   "outputs": [
    {
     "name": "stdout",
     "output_type": "stream",
     "text": [
      "The name of a person name is  suraj marks is  90.65987  age is  22\n"
     ]
    }
   ],
   "source": [
    "name=\"suraj\"\n",
    "age=22\n",
    "marks=90.6598700\n",
    "print(\"The name of a person name is \",name,\"marks is \", marks, \" age is \",age )"
   ]
  },
  {
   "cell_type": "code",
   "execution_count": 12,
   "metadata": {},
   "outputs": [
    {
     "name": "stdout",
     "output_type": "stream",
     "text": [
      "The name of a person name is suraj marks is 90.66 age is         22.\n"
     ]
    }
   ],
   "source": [
    "print(\"The name of a person name is %s marks is %.2f age is %10d.\"  %(name,marks,age))"
   ]
  },
  {
   "cell_type": "code",
   "execution_count": 13,
   "metadata": {
    "scrolled": true
   },
   "outputs": [
    {
     "name": "stdout",
     "output_type": "stream",
     "text": [
      "10 10 20\n"
     ]
    }
   ],
   "source": [
    "a=10; A=10; _10=20\n",
    "print(a,A,_10)"
   ]
  },
  {
   "cell_type": "code",
   "execution_count": 20,
   "metadata": {},
   "outputs": [
    {
     "name": "stdout",
     "output_type": "stream",
     "text": [
      "10//2 gives int--> 5 \n",
      "10/2 gives float--> 5.0\n"
     ]
    }
   ],
   "source": [
    "print(\"10//2 gives int-->\" ,10//2,\"\\n10/2 gives float-->\" ,10/2)"
   ]
  },
  {
   "cell_type": "code",
   "execution_count": 42,
   "metadata": {},
   "outputs": [
    {
     "name": "stdout",
     "output_type": "stream",
     "text": [
      "False\n",
      "True\n"
     ]
    }
   ],
   "source": [
    "a=10\n",
    "b=20\n",
    "c=24\n",
    "d=1\n",
    "e=a>b and c<d\n",
    "f=a<b and c>d\n",
    "print(e)\n",
    "print(f)"
   ]
  },
  {
   "cell_type": "code",
   "execution_count": 31,
   "metadata": {},
   "outputs": [
    {
     "data": {
      "text/plain": [
       "True"
      ]
     },
     "execution_count": 31,
     "metadata": {},
     "output_type": "execute_result"
    }
   ],
   "source": [
    "str1=\"python\"\n",
    "\"x\" not in str1"
   ]
  },
  {
   "cell_type": "code",
   "execution_count": 35,
   "metadata": {},
   "outputs": [
    {
     "data": {
      "text/plain": [
       "11.379310344827587"
      ]
     },
     "execution_count": 35,
     "metadata": {},
     "output_type": "execute_result"
    }
   ],
   "source": [
    "10+10/29*4"
   ]
  },
  {
   "cell_type": "code",
   "execution_count": 38,
   "metadata": {},
   "outputs": [
    {
     "data": {
      "text/plain": [
       "False"
      ]
     },
     "execution_count": 38,
     "metadata": {},
     "output_type": "execute_result"
    }
   ],
   "source": [
    "10>8>9"
   ]
  }
 ],
 "metadata": {
  "kernelspec": {
   "display_name": "Python 3",
   "language": "python",
   "name": "python3"
  },
  "language_info": {
   "codemirror_mode": {
    "name": "ipython",
    "version": 3
   },
   "file_extension": ".py",
   "mimetype": "text/x-python",
   "name": "python",
   "nbconvert_exporter": "python",
   "pygments_lexer": "ipython3",
   "version": "3.6.10"
  }
 },
 "nbformat": 4,
 "nbformat_minor": 4
}
