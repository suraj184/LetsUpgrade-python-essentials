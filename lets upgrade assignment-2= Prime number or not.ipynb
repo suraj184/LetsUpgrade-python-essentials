{
 "cells": [
  {
   "cell_type": "code",
   "execution_count": null,
   "metadata": {},
   "outputs": [],
   "source": [
    "a=0\n",
    "num1= int(input(\"Enter any number \"))\n",
    "for i in range(2,num1):\n",
    "    a= num1%i\n",
    "    if a==0:\n",
    "        print(num1, \"is not prime number.\")\n",
    "        break\n",
    "else:\n",
    "    print(num1, \"is prime number.\")"
   ]
  }
 ],
 "metadata": {
  "kernelspec": {
   "display_name": "Python 3",
   "language": "python",
   "name": "python3"
  },
  "language_info": {
   "codemirror_mode": {
    "name": "ipython",
    "version": 3
   },
   "file_extension": ".py",
   "mimetype": "text/x-python",
   "name": "python",
   "nbconvert_exporter": "python",
   "pygments_lexer": "ipython3",
   "version": "3.7.6"
  }
 },
 "nbformat": 4,
 "nbformat_minor": 4
}
